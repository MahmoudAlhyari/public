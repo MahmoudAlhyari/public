{
 "cells": [
  {
   "cell_type": "code",
   "execution_count": 2,
   "metadata": {},
   "outputs": [
    {
     "name": "stdout",
     "output_type": "stream",
     "text": [
      "                 \r"
     ]
    },
    {
     "data": {
      "text/html": [
       "<h1 style=\"text-align: center;\"><strong><u>Query Tool</u></strong></h1><p>This tool assists you in finding the right table by providing a list of all available tables to your account, once a table is selected, a query will be built with all columns in that table, each column will have the column type and a sample of the sample checkbox is selected. It will also add all partition column in the where section with all available values.</p>"
      ],
      "text/plain": [
       "<IPython.core.display.HTML object>"
      ]
     },
     "metadata": {},
     "output_type": "display_data"
    },
    {
     "data": {
      "application/vnd.jupyter.widget-view+json": {
       "model_id": "b22970372abd4d53a039e6014dded760",
       "version_major": 2,
       "version_minor": 0
      },
      "text/plain": [
       "HBox(children=(Combobox(value='', description='Table:', layout=Layout(min_width='75%'), options=('audio_diary_…"
      ]
     },
     "metadata": {},
     "output_type": "display_data"
    },
    {
     "data": {
      "application/vnd.jupyter.widget-view+json": {
       "model_id": "c382be68627b4bd5b55f05e76f0cc9ac",
       "version_major": 2,
       "version_minor": 0
      },
      "text/plain": [
       "HBox(children=(Combobox(value='', description='Saved Query:', layout=Layout(min_width='75%'), options=('200929…"
      ]
     },
     "metadata": {},
     "output_type": "display_data"
    },
    {
     "data": {
      "application/vnd.jupyter.widget-view+json": {
       "model_id": "818b776fc48a419485ec72994388a9c6",
       "version_major": 2,
       "version_minor": 0
      },
      "text/plain": [
       "Textarea(value='', description='Query:', layout=Layout(height='500px', min_height='500px', min_width='100%', o…"
      ]
     },
     "metadata": {},
     "output_type": "display_data"
    },
    {
     "data": {
      "application/vnd.jupyter.widget-view+json": {
       "model_id": "732467c630044e7987a46d07f41cab62",
       "version_major": 2,
       "version_minor": 0
      },
      "text/plain": [
       "HBox(children=(Button(description='Run Query', style=ButtonStyle()), Button(description='Clear', style=ButtonS…"
      ]
     },
     "metadata": {},
     "output_type": "display_data"
    },
    {
     "data": {
      "application/vnd.jupyter.widget-view+json": {
       "model_id": "74ac3181dbf445e49b6c1f63d856c66e",
       "version_major": 2,
       "version_minor": 0
      },
      "text/plain": [
       "Output()"
      ]
     },
     "metadata": {},
     "output_type": "display_data"
    }
   ],
   "source": [
    "%run Query.ipynb"
   ]
  }
 ],
 "metadata": {
  "kernelspec": {
   "display_name": "Python 3",
   "language": "python",
   "name": "python3"
  },
  "language_info": {
   "codemirror_mode": {
    "name": "ipython",
    "version": 3
   },
   "file_extension": ".py",
   "mimetype": "text/x-python",
   "name": "python",
   "nbconvert_exporter": "python",
   "pygments_lexer": "ipython3",
   "version": "3.7.3"
  }
 },
 "nbformat": 4,
 "nbformat_minor": 4
}
